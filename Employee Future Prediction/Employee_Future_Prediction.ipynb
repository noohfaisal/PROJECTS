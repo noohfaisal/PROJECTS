{
  "cells": [
    {
      "cell_type": "markdown",
      "metadata": {
        "id": "oRnfkH5Vw5RM"
      },
      "source": [
        "####In this project we are trying to predict whether or not an employee will be leaving the company they are currently working in, in the next few years based on certain data.\n",
        "> First we pre-process the data to convert the Categorical values to Numeric using label encoding\n",
        "\n",
        "> Then we apply various Feature Selection methods to Select the top voted features\n",
        "\n",
        "> We initially try to run the classifiers with the default hyper parameters and bechmark the accuracy scores.\n",
        "\n",
        "> We then use GridSearchCV to tune the hyperparameters for all the Classifiers and obtain the best values.\n",
        "\n",
        "> We re-run the classifications using the obtained values for the parameters with the top voted features to find the imporved accuracy scores"
      ]
    },
    {
      "cell_type": "code",
      "execution_count": null,
      "metadata": {
        "colab": {
          "background_save": true
        },
        "id": "25ghx93Rlt6j"
      },
      "outputs": [],
      "source": [
        "## import necessary library\n",
        "import pandas as pd \n",
        "import numpy as np\n",
        "import matplotlib.pyplot as plt\n",
        "from sklearn.preprocessing import LabelEncoder\n",
        "from sklearn.feature_selection import SelectKBest\n",
        "from sklearn.feature_selection import chi2\n",
        "from sklearn.preprocessing import MinMaxScaler\n",
        "from sklearn.feature_selection import RFE\n",
        "from sklearn.linear_model import LogisticRegression\n",
        "from sklearn.feature_selection import SelectFromModel\n",
        "from lightgbm import LGBMClassifier\n",
        "from sklearn.ensemble import RandomForestClassifier\n",
        "from sklearn.model_selection import train_test_split\n",
        "from sklearn.linear_model import SGDClassifier\n",
        "from sklearn.metrics import confusion_matrix\n",
        "from sklearn.svm import SVC\n",
        "from sklearn.tree import DecisionTreeClassifier\n",
        "from sklearn.metrics import precision_score, recall_score, roc_auc_score, roc_curve\n",
        "from sklearn.ensemble import RandomForestClassifier\n",
        "from sklearn.model_selection import GridSearchCV\n",
        "from sklearn.metrics import accuracy_score"
      ]
    },
    {
      "cell_type": "markdown",
      "metadata": {
        "id": "cOFmrZdpxxAy"
      },
      "source": [
        "# Data Pre-processing:"
      ]
    },
    {
      "cell_type": "code",
      "execution_count": null,
      "metadata": {
        "colab": {
          "background_save": true
        },
        "id": "0b1egkEAHP0T",
        "outputId": "c0436308-93c3-4128-b7bc-c276ee6c4383"
      },
      "outputs": [
        {
          "data": {
            "text/html": [
              "\n",
              "  <div id=\"df-0c6ba92d-63cd-49e5-9910-510c4a9fe64b\">\n",
              "    <div class=\"colab-df-container\">\n",
              "      <div>\n",
              "<style scoped>\n",
              "    .dataframe tbody tr th:only-of-type {\n",
              "        vertical-align: middle;\n",
              "    }\n",
              "\n",
              "    .dataframe tbody tr th {\n",
              "        vertical-align: top;\n",
              "    }\n",
              "\n",
              "    .dataframe thead th {\n",
              "        text-align: right;\n",
              "    }\n",
              "</style>\n",
              "<table border=\"1\" class=\"dataframe\">\n",
              "  <thead>\n",
              "    <tr style=\"text-align: right;\">\n",
              "      <th></th>\n",
              "      <th>Education</th>\n",
              "      <th>JoiningYear</th>\n",
              "      <th>City</th>\n",
              "      <th>PaymentTier</th>\n",
              "      <th>Age</th>\n",
              "      <th>Gender</th>\n",
              "      <th>EverBenched</th>\n",
              "      <th>ExperienceInCurrentDomain</th>\n",
              "      <th>LeaveOrNot</th>\n",
              "    </tr>\n",
              "  </thead>\n",
              "  <tbody>\n",
              "    <tr>\n",
              "      <th>0</th>\n",
              "      <td>Bachelors</td>\n",
              "      <td>2017</td>\n",
              "      <td>Bangalore</td>\n",
              "      <td>3</td>\n",
              "      <td>34</td>\n",
              "      <td>Male</td>\n",
              "      <td>No</td>\n",
              "      <td>0</td>\n",
              "      <td>0</td>\n",
              "    </tr>\n",
              "    <tr>\n",
              "      <th>1</th>\n",
              "      <td>Bachelors</td>\n",
              "      <td>2013</td>\n",
              "      <td>Pune</td>\n",
              "      <td>1</td>\n",
              "      <td>28</td>\n",
              "      <td>Female</td>\n",
              "      <td>No</td>\n",
              "      <td>3</td>\n",
              "      <td>1</td>\n",
              "    </tr>\n",
              "    <tr>\n",
              "      <th>2</th>\n",
              "      <td>Bachelors</td>\n",
              "      <td>2014</td>\n",
              "      <td>New Delhi</td>\n",
              "      <td>3</td>\n",
              "      <td>38</td>\n",
              "      <td>Female</td>\n",
              "      <td>No</td>\n",
              "      <td>2</td>\n",
              "      <td>0</td>\n",
              "    </tr>\n",
              "    <tr>\n",
              "      <th>3</th>\n",
              "      <td>Masters</td>\n",
              "      <td>2016</td>\n",
              "      <td>Bangalore</td>\n",
              "      <td>3</td>\n",
              "      <td>27</td>\n",
              "      <td>Male</td>\n",
              "      <td>No</td>\n",
              "      <td>5</td>\n",
              "      <td>1</td>\n",
              "    </tr>\n",
              "    <tr>\n",
              "      <th>4</th>\n",
              "      <td>Masters</td>\n",
              "      <td>2017</td>\n",
              "      <td>Pune</td>\n",
              "      <td>3</td>\n",
              "      <td>24</td>\n",
              "      <td>Male</td>\n",
              "      <td>Yes</td>\n",
              "      <td>2</td>\n",
              "      <td>1</td>\n",
              "    </tr>\n",
              "    <tr>\n",
              "      <th>...</th>\n",
              "      <td>...</td>\n",
              "      <td>...</td>\n",
              "      <td>...</td>\n",
              "      <td>...</td>\n",
              "      <td>...</td>\n",
              "      <td>...</td>\n",
              "      <td>...</td>\n",
              "      <td>...</td>\n",
              "      <td>...</td>\n",
              "    </tr>\n",
              "    <tr>\n",
              "      <th>4648</th>\n",
              "      <td>Bachelors</td>\n",
              "      <td>2013</td>\n",
              "      <td>Bangalore</td>\n",
              "      <td>3</td>\n",
              "      <td>26</td>\n",
              "      <td>Female</td>\n",
              "      <td>No</td>\n",
              "      <td>4</td>\n",
              "      <td>0</td>\n",
              "    </tr>\n",
              "    <tr>\n",
              "      <th>4649</th>\n",
              "      <td>Masters</td>\n",
              "      <td>2013</td>\n",
              "      <td>Pune</td>\n",
              "      <td>2</td>\n",
              "      <td>37</td>\n",
              "      <td>Male</td>\n",
              "      <td>No</td>\n",
              "      <td>2</td>\n",
              "      <td>1</td>\n",
              "    </tr>\n",
              "    <tr>\n",
              "      <th>4650</th>\n",
              "      <td>Masters</td>\n",
              "      <td>2018</td>\n",
              "      <td>New Delhi</td>\n",
              "      <td>3</td>\n",
              "      <td>27</td>\n",
              "      <td>Male</td>\n",
              "      <td>No</td>\n",
              "      <td>5</td>\n",
              "      <td>1</td>\n",
              "    </tr>\n",
              "    <tr>\n",
              "      <th>4651</th>\n",
              "      <td>Bachelors</td>\n",
              "      <td>2012</td>\n",
              "      <td>Bangalore</td>\n",
              "      <td>3</td>\n",
              "      <td>30</td>\n",
              "      <td>Male</td>\n",
              "      <td>Yes</td>\n",
              "      <td>2</td>\n",
              "      <td>0</td>\n",
              "    </tr>\n",
              "    <tr>\n",
              "      <th>4652</th>\n",
              "      <td>Bachelors</td>\n",
              "      <td>2015</td>\n",
              "      <td>Bangalore</td>\n",
              "      <td>3</td>\n",
              "      <td>33</td>\n",
              "      <td>Male</td>\n",
              "      <td>Yes</td>\n",
              "      <td>4</td>\n",
              "      <td>0</td>\n",
              "    </tr>\n",
              "  </tbody>\n",
              "</table>\n",
              "<p>4653 rows × 9 columns</p>\n",
              "</div>\n",
              "      <button class=\"colab-df-convert\" onclick=\"convertToInteractive('df-0c6ba92d-63cd-49e5-9910-510c4a9fe64b')\"\n",
              "              title=\"Convert this dataframe to an interactive table.\"\n",
              "              style=\"display:none;\">\n",
              "        \n",
              "  <svg xmlns=\"http://www.w3.org/2000/svg\" height=\"24px\"viewBox=\"0 0 24 24\"\n",
              "       width=\"24px\">\n",
              "    <path d=\"M0 0h24v24H0V0z\" fill=\"none\"/>\n",
              "    <path d=\"M18.56 5.44l.94 2.06.94-2.06 2.06-.94-2.06-.94-.94-2.06-.94 2.06-2.06.94zm-11 1L8.5 8.5l.94-2.06 2.06-.94-2.06-.94L8.5 2.5l-.94 2.06-2.06.94zm10 10l.94 2.06.94-2.06 2.06-.94-2.06-.94-.94-2.06-.94 2.06-2.06.94z\"/><path d=\"M17.41 7.96l-1.37-1.37c-.4-.4-.92-.59-1.43-.59-.52 0-1.04.2-1.43.59L10.3 9.45l-7.72 7.72c-.78.78-.78 2.05 0 2.83L4 21.41c.39.39.9.59 1.41.59.51 0 1.02-.2 1.41-.59l7.78-7.78 2.81-2.81c.8-.78.8-2.07 0-2.86zM5.41 20L4 18.59l7.72-7.72 1.47 1.35L5.41 20z\"/>\n",
              "  </svg>\n",
              "      </button>\n",
              "      \n",
              "  <style>\n",
              "    .colab-df-container {\n",
              "      display:flex;\n",
              "      flex-wrap:wrap;\n",
              "      gap: 12px;\n",
              "    }\n",
              "\n",
              "    .colab-df-convert {\n",
              "      background-color: #E8F0FE;\n",
              "      border: none;\n",
              "      border-radius: 50%;\n",
              "      cursor: pointer;\n",
              "      display: none;\n",
              "      fill: #1967D2;\n",
              "      height: 32px;\n",
              "      padding: 0 0 0 0;\n",
              "      width: 32px;\n",
              "    }\n",
              "\n",
              "    .colab-df-convert:hover {\n",
              "      background-color: #E2EBFA;\n",
              "      box-shadow: 0px 1px 2px rgba(60, 64, 67, 0.3), 0px 1px 3px 1px rgba(60, 64, 67, 0.15);\n",
              "      fill: #174EA6;\n",
              "    }\n",
              "\n",
              "    [theme=dark] .colab-df-convert {\n",
              "      background-color: #3B4455;\n",
              "      fill: #D2E3FC;\n",
              "    }\n",
              "\n",
              "    [theme=dark] .colab-df-convert:hover {\n",
              "      background-color: #434B5C;\n",
              "      box-shadow: 0px 1px 3px 1px rgba(0, 0, 0, 0.15);\n",
              "      filter: drop-shadow(0px 1px 2px rgba(0, 0, 0, 0.3));\n",
              "      fill: #FFFFFF;\n",
              "    }\n",
              "  </style>\n",
              "\n",
              "      <script>\n",
              "        const buttonEl =\n",
              "          document.querySelector('#df-0c6ba92d-63cd-49e5-9910-510c4a9fe64b button.colab-df-convert');\n",
              "        buttonEl.style.display =\n",
              "          google.colab.kernel.accessAllowed ? 'block' : 'none';\n",
              "\n",
              "        async function convertToInteractive(key) {\n",
              "          const element = document.querySelector('#df-0c6ba92d-63cd-49e5-9910-510c4a9fe64b');\n",
              "          const dataTable =\n",
              "            await google.colab.kernel.invokeFunction('convertToInteractive',\n",
              "                                                     [key], {});\n",
              "          if (!dataTable) return;\n",
              "\n",
              "          const docLinkHtml = 'Like what you see? Visit the ' +\n",
              "            '<a target=\"_blank\" href=https://colab.research.google.com/notebooks/data_table.ipynb>data table notebook</a>'\n",
              "            + ' to learn more about interactive tables.';\n",
              "          element.innerHTML = '';\n",
              "          dataTable['output_type'] = 'display_data';\n",
              "          await google.colab.output.renderOutput(dataTable, element);\n",
              "          const docLink = document.createElement('div');\n",
              "          docLink.innerHTML = docLinkHtml;\n",
              "          element.appendChild(docLink);\n",
              "        }\n",
              "      </script>\n",
              "    </div>\n",
              "  </div>\n",
              "  "
            ],
            "text/plain": [
              "      Education  JoiningYear       City  PaymentTier  Age  Gender EverBenched  \\\n",
              "0     Bachelors         2017  Bangalore            3   34    Male          No   \n",
              "1     Bachelors         2013       Pune            1   28  Female          No   \n",
              "2     Bachelors         2014  New Delhi            3   38  Female          No   \n",
              "3       Masters         2016  Bangalore            3   27    Male          No   \n",
              "4       Masters         2017       Pune            3   24    Male         Yes   \n",
              "...         ...          ...        ...          ...  ...     ...         ...   \n",
              "4648  Bachelors         2013  Bangalore            3   26  Female          No   \n",
              "4649    Masters         2013       Pune            2   37    Male          No   \n",
              "4650    Masters         2018  New Delhi            3   27    Male          No   \n",
              "4651  Bachelors         2012  Bangalore            3   30    Male         Yes   \n",
              "4652  Bachelors         2015  Bangalore            3   33    Male         Yes   \n",
              "\n",
              "      ExperienceInCurrentDomain  LeaveOrNot  \n",
              "0                             0           0  \n",
              "1                             3           1  \n",
              "2                             2           0  \n",
              "3                             5           1  \n",
              "4                             2           1  \n",
              "...                         ...         ...  \n",
              "4648                          4           0  \n",
              "4649                          2           1  \n",
              "4650                          5           1  \n",
              "4651                          2           0  \n",
              "4652                          4           0  \n",
              "\n",
              "[4653 rows x 9 columns]"
            ]
          },
          "execution_count": 43,
          "metadata": {},
          "output_type": "execute_result"
        }
      ],
      "source": [
        "#import data \n",
        "data = pd.read_csv('https://raw.githubusercontent.com/SimonFWH/APP-MATH-CONC-FOR-MACH-LEARN-Labs/main/Term%20Project/Employee.csv')\n",
        "data"
      ]
    },
    {
      "cell_type": "code",
      "execution_count": null,
      "metadata": {
        "colab": {
          "background_save": true
        },
        "id": "_iHTiMy1Jsqo",
        "outputId": "75c514bd-b9ee-4ce5-a1e9-2e77d6218207"
      },
      "outputs": [
        {
          "name": "stdout",
          "output_type": "stream",
          "text": [
            "<class 'pandas.core.frame.DataFrame'>\n",
            "RangeIndex: 4653 entries, 0 to 4652\n",
            "Data columns (total 9 columns):\n",
            " #   Column                     Non-Null Count  Dtype \n",
            "---  ------                     --------------  ----- \n",
            " 0   Education                  4653 non-null   object\n",
            " 1   JoiningYear                4653 non-null   int64 \n",
            " 2   City                       4653 non-null   object\n",
            " 3   PaymentTier                4653 non-null   int64 \n",
            " 4   Age                        4653 non-null   int64 \n",
            " 5   Gender                     4653 non-null   object\n",
            " 6   EverBenched                4653 non-null   object\n",
            " 7   ExperienceInCurrentDomain  4653 non-null   int64 \n",
            " 8   LeaveOrNot                 4653 non-null   int64 \n",
            "dtypes: int64(5), object(4)\n",
            "memory usage: 327.3+ KB\n"
          ]
        }
      ],
      "source": [
        "## Showing data type\n",
        "data.info()"
      ]
    },
    {
      "cell_type": "code",
      "execution_count": null,
      "metadata": {
        "colab": {
          "background_save": true
        },
        "id": "dduVtxLj6PK6",
        "outputId": "0ddc6834-a0ee-40f7-8314-7a3b8609f393"
      },
      "outputs": [
        {
          "data": {
            "text/plain": [
              "Education                    0\n",
              "JoiningYear                  0\n",
              "City                         0\n",
              "PaymentTier                  0\n",
              "Age                          0\n",
              "Gender                       0\n",
              "EverBenched                  0\n",
              "ExperienceInCurrentDomain    0\n",
              "LeaveOrNot                   0\n",
              "dtype: int64"
            ]
          },
          "execution_count": 45,
          "metadata": {},
          "output_type": "execute_result"
        }
      ],
      "source": [
        "## Checking null values \n",
        "data.isna().sum()"
      ]
    },
    {
      "cell_type": "markdown",
      "metadata": {
        "id": "6lQwKCzmz_yS"
      },
      "source": [
        "## Label encoding"
      ]
    },
    {
      "cell_type": "code",
      "execution_count": null,
      "metadata": {
        "colab": {
          "background_save": true
        },
        "id": "SKF4iq77Kiiu",
        "outputId": "130d4d45-9932-437d-e3f1-068506731cc6"
      },
      "outputs": [
        {
          "name": "stdout",
          "output_type": "stream",
          "text": [
            "Mapping of encoded columns: \n",
            "{'Bachelors': 0, 'Masters': 1, 'PHD': 2}\n",
            "{'Bangalore': 0, 'New Delhi': 1, 'Pune': 2}\n",
            "{'Female': 0, 'Male': 1}\n",
            "{'No': 0, 'Yes': 1}\n",
            "      Education  JoiningYear  City  PaymentTier  Age  Gender  EverBenched  \\\n",
            "0             0         2017     0            3   34       1            0   \n",
            "1             0         2013     2            1   28       0            0   \n",
            "2             0         2014     1            3   38       0            0   \n",
            "3             1         2016     0            3   27       1            0   \n",
            "4             1         2017     2            3   24       1            1   \n",
            "...         ...          ...   ...          ...  ...     ...          ...   \n",
            "4648          0         2013     0            3   26       0            0   \n",
            "4649          1         2013     2            2   37       1            0   \n",
            "4650          1         2018     1            3   27       1            0   \n",
            "4651          0         2012     0            3   30       1            1   \n",
            "4652          0         2015     0            3   33       1            1   \n",
            "\n",
            "      ExperienceInCurrentDomain  LeaveOrNot  \n",
            "0                             0           0  \n",
            "1                             3           1  \n",
            "2                             2           0  \n",
            "3                             5           1  \n",
            "4                             2           1  \n",
            "...                         ...         ...  \n",
            "4648                          4           0  \n",
            "4649                          2           1  \n",
            "4650                          5           1  \n",
            "4651                          2           0  \n",
            "4652                          4           0  \n",
            "\n",
            "[4653 rows x 9 columns]\n",
            "<class 'pandas.core.frame.DataFrame'>\n",
            "RangeIndex: 4653 entries, 0 to 4652\n",
            "Data columns (total 9 columns):\n",
            " #   Column                     Non-Null Count  Dtype\n",
            "---  ------                     --------------  -----\n",
            " 0   Education                  4653 non-null   int64\n",
            " 1   JoiningYear                4653 non-null   int64\n",
            " 2   City                       4653 non-null   int64\n",
            " 3   PaymentTier                4653 non-null   int64\n",
            " 4   Age                        4653 non-null   int64\n",
            " 5   Gender                     4653 non-null   int64\n",
            " 6   EverBenched                4653 non-null   int64\n",
            " 7   ExperienceInCurrentDomain  4653 non-null   int64\n",
            " 8   LeaveOrNot                 4653 non-null   int64\n",
            "dtypes: int64(9)\n",
            "memory usage: 327.3 KB\n"
          ]
        }
      ],
      "source": [
        "## Get the mapping of columns that are going to be encoded\n",
        "eduation_column_classes = data['Education'].unique()\n",
        "city_column_classes = data['City'].unique()\n",
        "gender_column_classes = data['Gender'].unique()\n",
        "everbenched_column_classes = data['EverBenched'].unique()\n",
        "\n",
        "le = LabelEncoder()\n",
        "le.fit_transform(eduation_column_classes)\n",
        "eduation_label_mapping = dict(zip(le.classes_, range(len(le.classes_))))\n",
        "\n",
        "le.fit_transform(city_column_classes)\n",
        "city_label_mapping = dict(zip(le.classes_, range(len(le.classes_))))\n",
        "\n",
        "le.fit_transform(gender_column_classes)\n",
        "gender_label_mapping = dict(zip(le.classes_, range(len(le.classes_))))\n",
        "\n",
        "le.fit_transform(everbenched_column_classes)\n",
        "everbenched__label_mapping = dict(zip(le.classes_, range(len(le.classes_))))\n",
        "\n",
        "print(\"Mapping of encoded columns: \")\n",
        "print(eduation_label_mapping)\n",
        "print(city_label_mapping)\n",
        "print(gender_label_mapping)\n",
        "print(everbenched__label_mapping)\n",
        "\n",
        "## Label encoder: converting categorical into Numeric\n",
        "le = LabelEncoder()\n",
        "Catcols=['Education','City','Gender','EverBenched']\n",
        "data[Catcols] = data[Catcols].apply(le.fit_transform)\n",
        "df=pd.DataFrame(data)\n",
        "print(df)\n",
        "df.info()"
      ]
    },
    {
      "cell_type": "code",
      "execution_count": null,
      "metadata": {
        "colab": {
          "background_save": true
        },
        "id": "RIgoQiITt3I3",
        "outputId": "709cbc28-1515-4f77-9f6d-c560a8f85557"
      },
      "outputs": [
        {
          "name": "stdout",
          "output_type": "stream",
          "text": [
            "      Education  JoiningYear  City  PaymentTier  Age  Gender  EverBenched  \\\n",
            "0             0         2017     0            3   34       1            0   \n",
            "1             0         2013     2            1   28       0            0   \n",
            "2             0         2014     1            3   38       0            0   \n",
            "3             1         2016     0            3   27       1            0   \n",
            "4             1         2017     2            3   24       1            1   \n",
            "...         ...          ...   ...          ...  ...     ...          ...   \n",
            "4648          0         2013     0            3   26       0            0   \n",
            "4649          1         2013     2            2   37       1            0   \n",
            "4650          1         2018     1            3   27       1            0   \n",
            "4651          0         2012     0            3   30       1            1   \n",
            "4652          0         2015     0            3   33       1            1   \n",
            "\n",
            "      ExperienceInCurrentDomain  \n",
            "0                             0  \n",
            "1                             3  \n",
            "2                             2  \n",
            "3                             5  \n",
            "4                             2  \n",
            "...                         ...  \n",
            "4648                          4  \n",
            "4649                          2  \n",
            "4650                          5  \n",
            "4651                          2  \n",
            "4652                          4  \n",
            "\n",
            "[4653 rows x 8 columns]\n",
            "      LeaveOrNot\n",
            "0              0\n",
            "1              1\n",
            "2              0\n",
            "3              1\n",
            "4              1\n",
            "...          ...\n",
            "4648           0\n",
            "4649           1\n",
            "4650           1\n",
            "4651           0\n",
            "4652           0\n",
            "\n",
            "[4653 rows x 1 columns]\n"
          ]
        }
      ],
      "source": [
        "# Defining dependent(y) and independent(X) variables\n",
        "X=df.copy()\n",
        "del X['LeaveOrNot']\n",
        "y=df['LeaveOrNot']\n",
        "print(X)\n",
        "print(y.to_frame())\n",
        "num_feats=8\n",
        "feature_name = list(X.columns)"
      ]
    },
    {
      "cell_type": "markdown",
      "metadata": {
        "id": "Cprus1XdyYZR"
      },
      "source": [
        "# Feature Selection:"
      ]
    },
    {
      "cell_type": "markdown",
      "metadata": {
        "id": "5G-8jtoAK8OH"
      },
      "source": [
        "## Filter Feature Selection - Pearson Correlation"
      ]
    },
    {
      "cell_type": "code",
      "execution_count": null,
      "metadata": {
        "colab": {
          "background_save": true
        },
        "id": "GEF2lDVQMxEl"
      },
      "outputs": [],
      "source": [
        "def cor_selector(X, y,num_feats):\n",
        "    \n",
        "    # Your code goes here (Multiple lines)\n",
        "    cor_list = []\n",
        "    feature_name = X.columns.tolist()\n",
        "    \n",
        "    for i in X.columns.tolist():\n",
        "        cor = np.corrcoef(X[i], y)[0, 1]\n",
        "        cor_list.append(cor)\n",
        "    \n",
        "    cor_list = [0 if np.isnan(i) else i for i in cor_list]\n",
        "    \n",
        "    cor_feature = X.iloc[:,np.argsort(np.abs(cor_list))[-num_feats:]].columns.tolist()\n",
        "    \n",
        "    cor_support = [True if i in cor_feature else False for i in feature_name]\n",
        "    return cor_support, cor_feature"
      ]
    },
    {
      "cell_type": "code",
      "execution_count": null,
      "metadata": {
        "colab": {
          "background_save": true
        },
        "id": "mRvCE9We4kRT"
      },
      "outputs": [],
      "source": [
        "cor_support, cor_feature = cor_selector(X, y,num_feats)"
      ]
    },
    {
      "cell_type": "markdown",
      "metadata": {
        "id": "F-Q8ntd2K99N"
      },
      "source": [
        "## Filter Feature Selection - Chi-Sqaure"
      ]
    },
    {
      "cell_type": "code",
      "execution_count": null,
      "metadata": {
        "colab": {
          "background_save": true
        },
        "id": "maxkloVu3Dzc"
      },
      "outputs": [],
      "source": [
        "def chi_squared_selector(X, y, num_feats):\n",
        "    # Your code goes here (Multiple lines)\n",
        "    X_norm=MinMaxScaler().fit_transform(X)\n",
        "    bestfeatures = SelectKBest(score_func=chi2, k=num_feats)\n",
        "    bestfeatures.fit(X_norm,y)\n",
        "    chi_support=bestfeatures.get_support()\n",
        "    chi_feature=X.loc[:,chi_support].columns.tolist()\n",
        "    \n",
        "    # Your code ends here\n",
        "    return chi_support, chi_feature"
      ]
    },
    {
      "cell_type": "code",
      "execution_count": null,
      "metadata": {
        "colab": {
          "background_save": true
        },
        "id": "sw16geRF4mYf"
      },
      "outputs": [],
      "source": [
        "chi_support, chi_feature = chi_squared_selector(X, y,num_feats)"
      ]
    },
    {
      "cell_type": "markdown",
      "metadata": {
        "id": "me3p9ImiLDXe"
      },
      "source": [
        "## Wrapper Feature Selection - Recursive Feature Elimination"
      ]
    },
    {
      "cell_type": "code",
      "execution_count": null,
      "metadata": {
        "colab": {
          "background_save": true
        },
        "id": "vm9rR0ve3Rnz"
      },
      "outputs": [],
      "source": [
        "def rfe_selector(X, y, num_feats):\n",
        "    # Your code goes here (Multiple lines)\n",
        "    rfe_selector= RFE(estimator=LogisticRegression(),n_features_to_select=num_feats,step=10,verbose=5)\n",
        "    X_norm=MinMaxScaler().fit_transform(X)\n",
        "    rfe_selector.fit(X_norm,y)\n",
        "    rfe_support=rfe_selector.get_support()\n",
        "    rfe_feature=X.loc[:,rfe_support].columns.tolist()\n",
        "    # Your code ends here\n",
        "    return rfe_support, rfe_feature"
      ]
    },
    {
      "cell_type": "code",
      "execution_count": null,
      "metadata": {
        "colab": {
          "background_save": true
        },
        "id": "xrTfCaeI4t1P"
      },
      "outputs": [],
      "source": [
        "rfe_support, rfe_feature = rfe_selector(X, y,num_feats)"
      ]
    },
    {
      "cell_type": "markdown",
      "metadata": {
        "id": "xu_YgcmXLGyL"
      },
      "source": [
        "## Embedded Selection - Lasso Regression"
      ]
    },
    {
      "cell_type": "code",
      "execution_count": null,
      "metadata": {
        "colab": {
          "background_save": true
        },
        "id": "Jc0ORIq63jtR"
      },
      "outputs": [],
      "source": [
        "def embedded_log_reg_selector(X, y, num_feats):\n",
        "    # Your code goes here (Multiple lines)\n",
        "    lr_selector=SelectFromModel(LogisticRegression(),max_features=num_feats)\n",
        "    X_norm=MinMaxScaler().fit_transform(X)\n",
        "    lr_selector.fit(X_norm,y)\n",
        "    lr_support=lr_selector.get_support()\n",
        "    lr_feature=X.loc[:,lr_support].columns.tolist()\n",
        "    # Your code ends here\n",
        "    return lr_support, lr_feature"
      ]
    },
    {
      "cell_type": "code",
      "execution_count": null,
      "metadata": {
        "colab": {
          "background_save": true
        },
        "id": "u28Jwrmq41M_"
      },
      "outputs": [],
      "source": [
        "embedded_lr_support, embedded_lr_feature = embedded_log_reg_selector(X, y, num_feats)"
      ]
    },
    {
      "cell_type": "markdown",
      "metadata": {
        "id": "DrVFoMmZLKiu"
      },
      "source": [
        "## Tree based - Random Forest"
      ]
    },
    {
      "cell_type": "code",
      "execution_count": null,
      "metadata": {
        "colab": {
          "background_save": true
        },
        "id": "CyMMsT9e3v2C"
      },
      "outputs": [],
      "source": [
        "def embedded_rf_selector(X, y, num_feats):\n",
        "    # Your code goes here (Multiple lines)\n",
        "    rf_selector=SelectFromModel(RandomForestClassifier(n_estimators=100),max_features=num_feats)\n",
        "    \n",
        "    rf_selector.fit(X,y)\n",
        "    rf_support=rf_selector.get_support()\n",
        "    rf_feature=X.loc[:,rf_support].columns.tolist()\n",
        "    \n",
        "    # Your code ends here\n",
        "    return rf_support, rf_feature"
      ]
    },
    {
      "cell_type": "code",
      "execution_count": null,
      "metadata": {
        "colab": {
          "background_save": true
        },
        "id": "7708mNwR4740"
      },
      "outputs": [],
      "source": [
        "embeded_rf_support, embeded_rf_feature = embedded_rf_selector(X, y, num_feats)"
      ]
    },
    {
      "cell_type": "markdown",
      "metadata": {
        "id": "ZsZLXbDJLjn-"
      },
      "source": [
        "## Tree based - Light GBM"
      ]
    },
    {
      "cell_type": "code",
      "execution_count": null,
      "metadata": {
        "colab": {
          "background_save": true
        },
        "id": "M998O_hM4FOy"
      },
      "outputs": [],
      "source": [
        "def embedded_lgbm_selector(X, y, num_feats):\n",
        "    # Your code goes here (Multiple lines)\n",
        "    lgbc=LGBMClassifier(n_estimators=500,learning_rate=.05,num_leaves=32,colsample_bytree=.2,\n",
        "                       reg_alpha=3,reg_lambda=1,min_split_gain=.01,min_child_weight=40)\n",
        "    lgb_selector=SelectFromModel(lgbc,max_features=num_feats)\n",
        "    lgb_selector.fit(X,y)\n",
        "    lgb_support=lgb_selector.get_support()\n",
        "    lgb_feature=X.loc[:,lgb_support].columns.tolist()\n",
        "    # Your code ends here\n",
        "    return lgb_support, lgb_feature"
      ]
    },
    {
      "cell_type": "code",
      "execution_count": null,
      "metadata": {
        "colab": {
          "background_save": true
        },
        "id": "liyne8ff5Ap3"
      },
      "outputs": [],
      "source": [
        "embeded_lgbm_support, embeded_lgbm_feature = embedded_lgbm_selector(X, y, num_feats)"
      ]
    },
    {
      "cell_type": "markdown",
      "metadata": {
        "id": "gL6BD-rC8yyb"
      },
      "source": [
        "## Feature Selection Summary"
      ]
    },
    {
      "cell_type": "code",
      "execution_count": null,
      "metadata": {
        "colab": {
          "background_save": true
        },
        "id": "xZB8yvK04GPI",
        "outputId": "c6c04667-35be-4462-ee4b-42c11cd43abe"
      },
      "outputs": [
        {
          "name": "stderr",
          "output_type": "stream",
          "text": [
            "/usr/local/lib/python3.8/dist-packages/numpy/core/fromnumeric.py:84: FutureWarning: Dropping of nuisance columns in DataFrame reductions (with 'numeric_only=None') is deprecated; in a future version this will raise TypeError.  Select only valid columns before calling the reduction.\n",
            "  return reduction(axis=axis, out=out, **passkwargs)\n"
          ]
        },
        {
          "data": {
            "text/html": [
              "\n",
              "  <div id=\"df-f896cef0-f3cc-44a3-b35c-c18a00600315\">\n",
              "    <div class=\"colab-df-container\">\n",
              "      <div>\n",
              "<style scoped>\n",
              "    .dataframe tbody tr th:only-of-type {\n",
              "        vertical-align: middle;\n",
              "    }\n",
              "\n",
              "    .dataframe tbody tr th {\n",
              "        vertical-align: top;\n",
              "    }\n",
              "\n",
              "    .dataframe thead th {\n",
              "        text-align: right;\n",
              "    }\n",
              "</style>\n",
              "<table border=\"1\" class=\"dataframe\">\n",
              "  <thead>\n",
              "    <tr style=\"text-align: right;\">\n",
              "      <th></th>\n",
              "      <th>Feature</th>\n",
              "      <th>Pearson</th>\n",
              "      <th>Chi-2</th>\n",
              "      <th>RFE</th>\n",
              "      <th>Logistics</th>\n",
              "      <th>Random Forest</th>\n",
              "      <th>LightGBM</th>\n",
              "      <th>Total</th>\n",
              "    </tr>\n",
              "  </thead>\n",
              "  <tbody>\n",
              "    <tr>\n",
              "      <th>1</th>\n",
              "      <td>JoiningYear</td>\n",
              "      <td>True</td>\n",
              "      <td>True</td>\n",
              "      <td>True</td>\n",
              "      <td>True</td>\n",
              "      <td>True</td>\n",
              "      <td>True</td>\n",
              "      <td>6</td>\n",
              "    </tr>\n",
              "    <tr>\n",
              "      <th>2</th>\n",
              "      <td>Age</td>\n",
              "      <td>True</td>\n",
              "      <td>True</td>\n",
              "      <td>True</td>\n",
              "      <td>False</td>\n",
              "      <td>True</td>\n",
              "      <td>True</td>\n",
              "      <td>5</td>\n",
              "    </tr>\n",
              "    <tr>\n",
              "      <th>3</th>\n",
              "      <td>PaymentTier</td>\n",
              "      <td>True</td>\n",
              "      <td>True</td>\n",
              "      <td>True</td>\n",
              "      <td>True</td>\n",
              "      <td>False</td>\n",
              "      <td>False</td>\n",
              "      <td>4</td>\n",
              "    </tr>\n",
              "    <tr>\n",
              "      <th>4</th>\n",
              "      <td>Gender</td>\n",
              "      <td>True</td>\n",
              "      <td>True</td>\n",
              "      <td>True</td>\n",
              "      <td>True</td>\n",
              "      <td>False</td>\n",
              "      <td>False</td>\n",
              "      <td>4</td>\n",
              "    </tr>\n",
              "    <tr>\n",
              "      <th>5</th>\n",
              "      <td>ExperienceInCurrentDomain</td>\n",
              "      <td>True</td>\n",
              "      <td>True</td>\n",
              "      <td>True</td>\n",
              "      <td>False</td>\n",
              "      <td>False</td>\n",
              "      <td>True</td>\n",
              "      <td>4</td>\n",
              "    </tr>\n",
              "    <tr>\n",
              "      <th>6</th>\n",
              "      <td>City</td>\n",
              "      <td>True</td>\n",
              "      <td>True</td>\n",
              "      <td>True</td>\n",
              "      <td>True</td>\n",
              "      <td>False</td>\n",
              "      <td>False</td>\n",
              "      <td>4</td>\n",
              "    </tr>\n",
              "    <tr>\n",
              "      <th>7</th>\n",
              "      <td>EverBenched</td>\n",
              "      <td>True</td>\n",
              "      <td>True</td>\n",
              "      <td>True</td>\n",
              "      <td>False</td>\n",
              "      <td>False</td>\n",
              "      <td>False</td>\n",
              "      <td>3</td>\n",
              "    </tr>\n",
              "    <tr>\n",
              "      <th>8</th>\n",
              "      <td>Education</td>\n",
              "      <td>True</td>\n",
              "      <td>True</td>\n",
              "      <td>True</td>\n",
              "      <td>False</td>\n",
              "      <td>False</td>\n",
              "      <td>False</td>\n",
              "      <td>3</td>\n",
              "    </tr>\n",
              "  </tbody>\n",
              "</table>\n",
              "</div>\n",
              "      <button class=\"colab-df-convert\" onclick=\"convertToInteractive('df-f896cef0-f3cc-44a3-b35c-c18a00600315')\"\n",
              "              title=\"Convert this dataframe to an interactive table.\"\n",
              "              style=\"display:none;\">\n",
              "        \n",
              "  <svg xmlns=\"http://www.w3.org/2000/svg\" height=\"24px\"viewBox=\"0 0 24 24\"\n",
              "       width=\"24px\">\n",
              "    <path d=\"M0 0h24v24H0V0z\" fill=\"none\"/>\n",
              "    <path d=\"M18.56 5.44l.94 2.06.94-2.06 2.06-.94-2.06-.94-.94-2.06-.94 2.06-2.06.94zm-11 1L8.5 8.5l.94-2.06 2.06-.94-2.06-.94L8.5 2.5l-.94 2.06-2.06.94zm10 10l.94 2.06.94-2.06 2.06-.94-2.06-.94-.94-2.06-.94 2.06-2.06.94z\"/><path d=\"M17.41 7.96l-1.37-1.37c-.4-.4-.92-.59-1.43-.59-.52 0-1.04.2-1.43.59L10.3 9.45l-7.72 7.72c-.78.78-.78 2.05 0 2.83L4 21.41c.39.39.9.59 1.41.59.51 0 1.02-.2 1.41-.59l7.78-7.78 2.81-2.81c.8-.78.8-2.07 0-2.86zM5.41 20L4 18.59l7.72-7.72 1.47 1.35L5.41 20z\"/>\n",
              "  </svg>\n",
              "      </button>\n",
              "      \n",
              "  <style>\n",
              "    .colab-df-container {\n",
              "      display:flex;\n",
              "      flex-wrap:wrap;\n",
              "      gap: 12px;\n",
              "    }\n",
              "\n",
              "    .colab-df-convert {\n",
              "      background-color: #E8F0FE;\n",
              "      border: none;\n",
              "      border-radius: 50%;\n",
              "      cursor: pointer;\n",
              "      display: none;\n",
              "      fill: #1967D2;\n",
              "      height: 32px;\n",
              "      padding: 0 0 0 0;\n",
              "      width: 32px;\n",
              "    }\n",
              "\n",
              "    .colab-df-convert:hover {\n",
              "      background-color: #E2EBFA;\n",
              "      box-shadow: 0px 1px 2px rgba(60, 64, 67, 0.3), 0px 1px 3px 1px rgba(60, 64, 67, 0.15);\n",
              "      fill: #174EA6;\n",
              "    }\n",
              "\n",
              "    [theme=dark] .colab-df-convert {\n",
              "      background-color: #3B4455;\n",
              "      fill: #D2E3FC;\n",
              "    }\n",
              "\n",
              "    [theme=dark] .colab-df-convert:hover {\n",
              "      background-color: #434B5C;\n",
              "      box-shadow: 0px 1px 3px 1px rgba(0, 0, 0, 0.15);\n",
              "      filter: drop-shadow(0px 1px 2px rgba(0, 0, 0, 0.3));\n",
              "      fill: #FFFFFF;\n",
              "    }\n",
              "  </style>\n",
              "\n",
              "      <script>\n",
              "        const buttonEl =\n",
              "          document.querySelector('#df-f896cef0-f3cc-44a3-b35c-c18a00600315 button.colab-df-convert');\n",
              "        buttonEl.style.display =\n",
              "          google.colab.kernel.accessAllowed ? 'block' : 'none';\n",
              "\n",
              "        async function convertToInteractive(key) {\n",
              "          const element = document.querySelector('#df-f896cef0-f3cc-44a3-b35c-c18a00600315');\n",
              "          const dataTable =\n",
              "            await google.colab.kernel.invokeFunction('convertToInteractive',\n",
              "                                                     [key], {});\n",
              "          if (!dataTable) return;\n",
              "\n",
              "          const docLinkHtml = 'Like what you see? Visit the ' +\n",
              "            '<a target=\"_blank\" href=https://colab.research.google.com/notebooks/data_table.ipynb>data table notebook</a>'\n",
              "            + ' to learn more about interactive tables.';\n",
              "          element.innerHTML = '';\n",
              "          dataTable['output_type'] = 'display_data';\n",
              "          await google.colab.output.renderOutput(dataTable, element);\n",
              "          const docLink = document.createElement('div');\n",
              "          docLink.innerHTML = docLinkHtml;\n",
              "          element.appendChild(docLink);\n",
              "        }\n",
              "      </script>\n",
              "    </div>\n",
              "  </div>\n",
              "  "
            ],
            "text/plain": [
              "                     Feature  Pearson  Chi-2   RFE  Logistics  Random Forest  \\\n",
              "1                JoiningYear     True   True  True       True           True   \n",
              "2                        Age     True   True  True      False           True   \n",
              "3                PaymentTier     True   True  True       True          False   \n",
              "4                     Gender     True   True  True       True          False   \n",
              "5  ExperienceInCurrentDomain     True   True  True      False          False   \n",
              "6                       City     True   True  True       True          False   \n",
              "7                EverBenched     True   True  True      False          False   \n",
              "8                  Education     True   True  True      False          False   \n",
              "\n",
              "   LightGBM  Total  \n",
              "1      True      6  \n",
              "2      True      5  \n",
              "3     False      4  \n",
              "4     False      4  \n",
              "5      True      4  \n",
              "6     False      4  \n",
              "7     False      3  \n",
              "8     False      3  "
            ]
          },
          "execution_count": 60,
          "metadata": {},
          "output_type": "execute_result"
        }
      ],
      "source": [
        "feature_selection_df = pd.DataFrame({'Feature':feature_name, 'Pearson':cor_support, 'Chi-2':chi_support, 'RFE':rfe_support, 'Logistics':embedded_lr_support,\n",
        "                                    'Random Forest':embeded_rf_support, 'LightGBM':embeded_lgbm_support})\n",
        "# count the selected times for each feature\n",
        "feature_selection_df['Total'] = np.sum(feature_selection_df, axis=1)\n",
        "# display the top 100\n",
        "feature_selection_df = feature_selection_df.sort_values(['Total','Feature'] , ascending=False)\n",
        "feature_selection_df.index = range(1, len(feature_selection_df)+1)\n",
        "feature_selection_df.head(num_feats)"
      ]
    },
    {
      "cell_type": "markdown",
      "metadata": {
        "id": "VqTcjKV8ddzH"
      },
      "source": [
        "# Classification:"
      ]
    },
    {
      "cell_type": "code",
      "execution_count": null,
      "metadata": {
        "colab": {
          "background_save": true
        },
        "id": "M3Y3mPqWD9Rn"
      },
      "outputs": [],
      "source": [
        "# Normalising and Splitting the dataset into Train and Test\n",
        "X_norm=MinMaxScaler().fit_transform(X)\n",
        "X_train, X_test, y_train, y_test = train_test_split(X_norm, y, test_size=0.20, random_state=0, shuffle=True)"
      ]
    },
    {
      "cell_type": "markdown",
      "metadata": {
        "id": "CithA-q6djtF"
      },
      "source": [
        "## Logistic Regression"
      ]
    },
    {
      "cell_type": "code",
      "execution_count": null,
      "metadata": {
        "colab": {
          "background_save": true
        },
        "id": "IPKqpBsqdoW4",
        "outputId": "636744ae-bc36-468c-9a73-e604599ff8fe"
      },
      "outputs": [
        {
          "name": "stdout",
          "output_type": "stream",
          "text": [
            "Accuracy:  0.7024704618689581\n",
            "Confusion Matrix:\n",
            " [[538  81]\n",
            " [196 116]]\n"
          ]
        }
      ],
      "source": [
        "# Defining and Training the logistic Regression Model\n",
        "lr_model = LogisticRegression(random_state=0)\n",
        "lr_model.fit(X_train, y_train)\n",
        "\n",
        "# Testing the Logistic Regression Model\n",
        "lr_predictions = lr_model.predict(X_test)\n",
        "lr_score = lr_model.score(X_test, y_test)\n",
        "print(\"Accuracy: \", lr_score)\n",
        "\n",
        "# Confusion Matrix\n",
        "lr_cm = confusion_matrix(y_test,lr_predictions)\n",
        "print(\"Confusion Matrix:\\n\", lr_cm)"
      ]
    },
    {
      "cell_type": "markdown",
      "metadata": {
        "id": "pSbWL3Jetl-t"
      },
      "source": [
        "### Logistic Regression with GridSearch"
      ]
    },
    {
      "cell_type": "code",
      "execution_count": null,
      "metadata": {
        "id": "XZ09bvhJi4Vo"
      },
      "outputs": [],
      "source": [
        "# Hyperparameters to tune with GridSearch\n",
        "param_grid = {'C': [1,5, 20,100,500],\n",
        "              'tol': [0.001, 0.0001, 0.00001], \n",
        "              'class_weight': ['balanced', None],\n",
        "              'fit_intercept': [True, False]}\n",
        "\n",
        "# Training the Model\n",
        "lr_model = LogisticRegression(random_state=0)\n",
        "grid_search = GridSearchCV(lr_model,\n",
        "                           param_grid,\n",
        "                           scoring='accuracy',\n",
        "                           verbose=1,\n",
        "                           n_jobs=-1)\n",
        "\n",
        "# Applying the Model\n",
        "grid_search.fit(X_train, y_train)\n",
        "lr_predictions = grid_search.predict(X_test)\n",
        "\n",
        "# Optimum values values for the hyperparameters and the improved accuracy score\n",
        "print(\"Best parameters:\", grid_search.best_params_)\n",
        "print(\"Best score:\", grid_search.best_score_)"
      ]
    },
    {
      "cell_type": "markdown",
      "metadata": {
        "id": "WkSa_B_OOp-P"
      },
      "source": [
        "## Decision Tree"
      ]
    },
    {
      "cell_type": "code",
      "execution_count": null,
      "metadata": {
        "id": "_Kj3nvZnOx6D"
      },
      "outputs": [],
      "source": [
        "#Defining and Training the Decision Tree Model\n",
        "tree = DecisionTreeClassifier(random_state=0)\n",
        "tree.fit(X_train, y_train)\n",
        "\n",
        "#Node count and Maximum depth of the tree\n",
        "print(f'Decision tree has {tree.tree_.node_count} nodes with maximum depth {tree.tree_.max_depth}.')\n",
        "\n",
        "#Make probability predictions\n",
        "train_probs = tree.predict_proba(X_train)[:,1]\n",
        "probs = tree.predict_proba(X_test)[:,1]\n",
        "\n",
        "train_predictions = tree.predict(X_train)\n",
        "predictions = tree.predict(X_test)\n",
        "\n",
        "#Plot ROC AUC Score to assess Decision Tree Performance\n",
        "print(f'Train ROC AUC Score: {roc_auc_score(y_train, train_probs)}')\n",
        "print(f'Test ROC AUC  Score: {roc_auc_score(y_test, probs)}')\n",
        "print(f'Baseline ROC AUC: {roc_auc_score(y_test, [1 for _ in range(len(y_test))])}')\n",
        "\n",
        "\n",
        "# Calculate the accuracy score\n",
        "y_pred = tree.predict(X_test)\n",
        "dt_accuracy = accuracy_score(y_test, y_pred)\n",
        "print(f\"Accuracy: {dt_accuracy}\")\n",
        "\n",
        "#Decision Tree Confusional Matrix\n",
        "dt_cm = confusion_matrix(y_test, y_pred)\n",
        "print(\"Confusion Matrix:\\n\", dt_cm)"
      ]
    },
    {
      "cell_type": "markdown",
      "metadata": {
        "id": "UfQWC_0Z9v5b"
      },
      "source": [
        "### Decision Tree with GridSearch"
      ]
    },
    {
      "cell_type": "code",
      "execution_count": null,
      "metadata": {
        "id": "XPgPSOJX-Awl"
      },
      "outputs": [],
      "source": [
        "# Hyperparameters to tune with GridSearch\n",
        "param_dict = {'criterion':['gini', 'entropy'],\n",
        "              'max_depth':range(1,10),\n",
        "              'min_samples_split':range(2,10),\n",
        "              'min_samples_leaf':range(1,5)}\n",
        "\n",
        " # Training the Model           \n",
        "dt = DecisionTreeClassifier(random_state=0)\n",
        "dt_grid = GridSearchCV(dt,\n",
        "                       param_grid=param_dict,\n",
        "                       scoring='accuracy',\n",
        "                       verbose=1,\n",
        "                       n_jobs=-1)\n",
        "\n",
        "# Applying the Model\n",
        "dt_grid.fit(X_train, y_train)\n",
        "dt_predictions = dt_grid.predict(X_test)\n",
        "\n",
        "#Print out the best parameters by using GridSearchCV and the best score of the model\n",
        "print(\"Best parameters:\", dt_grid.best_params_)\n",
        "print(\"Best score:\", dt_grid.best_score_)"
      ]
    },
    {
      "cell_type": "markdown",
      "metadata": {
        "id": "HAwg54QjlGaa"
      },
      "source": [
        "## Random Forest"
      ]
    },
    {
      "cell_type": "code",
      "execution_count": null,
      "metadata": {
        "colab": {
          "background_save": true
        },
        "id": "sGH9uzP6dlv7",
        "outputId": "409d4c38-5020-4a69-a086-4d19280aeb66"
      },
      "outputs": [
        {
          "name": "stderr",
          "output_type": "stream",
          "text": [
            "[Parallel(n_jobs=-1)]: Using backend ThreadingBackend with 2 concurrent workers.\n",
            "[Parallel(n_jobs=-1)]: Done  46 tasks      | elapsed:    0.2s\n",
            "[Parallel(n_jobs=-1)]: Done 100 out of 100 | elapsed:    0.3s finished\n"
          ]
        },
        {
          "data": {
            "text/plain": [
              "RandomForestClassifier(max_features='sqrt', n_jobs=-1, random_state=0,\n",
              "                       verbose=1)"
            ]
          },
          "execution_count": 66,
          "metadata": {},
          "output_type": "execute_result"
        }
      ],
      "source": [
        "#Defining and Training the Random Forest Classifiesr\n",
        "rf_model = RandomForestClassifier(n_estimators=100,\n",
        "                                  random_state=0,\n",
        "                                  max_features='sqrt',\n",
        "                                  n_jobs=-1,\n",
        "                                  verbose=1)\n",
        "rf_model.fit(X_train, y_train)\n"
      ]
    },
    {
      "cell_type": "code",
      "execution_count": null,
      "metadata": {
        "colab": {
          "background_save": true
        },
        "id": "H4qLYXSdHx15",
        "outputId": "611b367b-2f2b-46f8-ef13-bc00e98375a5"
      },
      "outputs": [
        {
          "name": "stdout",
          "output_type": "stream",
          "text": [
            "Average number of nodes 1286\n",
            "Average maximum depth 20\n"
          ]
        }
      ],
      "source": [
        "#Node count and Maximum depth of the tree\n",
        "n_nodes = []\n",
        "max_depths = []\n",
        "\n",
        "for ind_tree in rf_model.estimators_:\n",
        "    n_nodes.append(ind_tree.tree_.node_count)\n",
        "    max_depths.append(ind_tree.tree_.max_depth)\n",
        "    \n",
        "print(f'Average number of nodes {int(np.mean(n_nodes))}')\n",
        "print(f'Average maximum depth {int(np.mean(max_depths))}')"
      ]
    },
    {
      "cell_type": "code",
      "execution_count": null,
      "metadata": {
        "id": "vrjfyTMjHypI"
      },
      "outputs": [],
      "source": [
        "#Make Random Forest predictions\n",
        "train_rf_predictions = rf_model.predict(X_train)\n",
        "train_rf_probs = rf_model.predict_proba(X_train)[:, 1]\n",
        "\n",
        "rf_predictions = rf_model.predict(X_test)\n",
        "rf_probs = rf_model.predict_proba(X_test)[:, 1]\n"
      ]
    },
    {
      "cell_type": "code",
      "execution_count": null,
      "metadata": {
        "id": "XW-WlmUsH2Ge"
      },
      "outputs": [],
      "source": [
        "#Plot ROC AUC Score\n",
        "print(f'Train ROC AUC Score: {roc_auc_score(y_train, train_rf_probs)}')\n",
        "print(f'Test ROC AUC  Score: {roc_auc_score(y_test, rf_probs)}')\n",
        "print(f'Baseline ROC AUC: {roc_auc_score(y_test, [1 for _ in range(len(y_test))])}')\n",
        "\n",
        "# Calculate the accuracy score\n",
        "y_pred = rf_model.predict(X_test)\n",
        "rf_accuracy = accuracy_score(y_test, y_pred)\n",
        "print(f\"Accuracy: {rf_accuracy}\")\n",
        "\n",
        "#Random Forest Confusion Matrix\n",
        "rf_cm = confusion_matrix(y_test, rf_predictions)\n",
        "print(\"Confusion Matrix:\\n\", rf_cm)"
      ]
    },
    {
      "cell_type": "markdown",
      "metadata": {
        "id": "tgBdW7Hu-DzD"
      },
      "source": [
        "### Random Forest with GridSearch"
      ]
    },
    {
      "cell_type": "code",
      "execution_count": null,
      "metadata": {
        "colab": {
          "base_uri": "https://localhost:8080/"
        },
        "id": "uIYlAhKa-Hp1",
        "outputId": "4b8dfc36-a024-445f-9c34-ca66dec4d16f"
      },
      "outputs": [
        {
          "name": "stdout",
          "output_type": "stream",
          "text": [
            "Fitting 5 folds for each of 81 candidates, totalling 405 fits\n",
            "Best parameters: {'max_depth': 10, 'min_samples_leaf': 4, 'min_samples_split': 2, 'n_estimators': 50}\n",
            "Best score: 0.8503485602944361\n"
          ]
        }
      ],
      "source": [
        "# Hyperparameters to tune with GridSearch\n",
        "param_grid = {'n_estimators': [10, 50, 100],\n",
        "              'max_depth': [None, 10, 20],\n",
        "              'min_samples_split': [2, 5, 10],\n",
        "              'min_samples_leaf': [1, 2, 4]}\n",
        "\n",
        "#Train and Fit the Model\n",
        "rf = RandomForestClassifier(random_state=0)\n",
        "rf_grid = GridSearchCV(rf,\n",
        "                       param_grid,\n",
        "                       scoring=\"accuracy\",\n",
        "                       verbose=1,\n",
        "                       n_jobs=-1)\n",
        "rf_grid.fit(X_train, y_train)\n",
        "\n",
        "# Optimum values values for the hyperparameters and the improved score\n",
        "print(f\"Best parameters: {rf_grid.best_params_}\")\n",
        "print(f\"Best score: {rf_grid.best_score_}\")"
      ]
    },
    {
      "cell_type": "markdown",
      "metadata": {
        "id": "zYc92bcQlKJI"
      },
      "source": [
        "## Stochastic Gradient Descent"
      ]
    },
    {
      "cell_type": "code",
      "execution_count": null,
      "metadata": {
        "colab": {
          "base_uri": "https://localhost:8080/"
        },
        "id": "coUW5In7lR9E",
        "outputId": "e69c8673-b89a-4e83-efb6-d2922f3455ec"
      },
      "outputs": [
        {
          "name": "stdout",
          "output_type": "stream",
          "text": [
            "Accuracy:  0.7056928034371643\n",
            "Confusion Matrix:\n",
            " [[561  58]\n",
            " [216  96]]\n"
          ]
        }
      ],
      "source": [
        "# Defining and Training the Stochastic Gradient Descent Model\n",
        "sdg_model = SGDClassifier(random_state=0)\n",
        "sdg_model.fit(X_train, y_train)\n",
        "\n",
        "# Testing the Stochastic Gradient Descent Model\n",
        "sdg_predictions = sdg_model.predict(X_test)\n",
        "sgd_score = sdg_model.score(X_test, y_test)\n",
        "print(\"Accuracy: \", sgd_score)\n",
        "\n",
        "# Confusion Matrix\n",
        "sgd_cm = confusion_matrix(y_test,sdg_predictions)\n",
        "print(\"Confusion Matrix:\\n\", sgd_cm)"
      ]
    },
    {
      "cell_type": "markdown",
      "metadata": {
        "id": "MOfty5vq-L2T"
      },
      "source": [
        "### Stochastic Gradient Descent with GridSearch"
      ]
    },
    {
      "cell_type": "code",
      "execution_count": null,
      "metadata": {
        "colab": {
          "base_uri": "https://localhost:8080/"
        },
        "id": "i3GvaQu1uLqU",
        "outputId": "50aa39ac-70ee-44f4-d070-c082d229e07b"
      },
      "outputs": [
        {
          "name": "stdout",
          "output_type": "stream",
          "text": [
            "Fitting 5 folds for each of 576 candidates, totalling 2880 fits\n",
            "Best parameters: {'alpha': 0.0001, 'class_weight': None, 'early_stopping': False, 'fit_intercept': False, 'loss': 'hinge', 'shuffle': False, 'tol': 0.0001}\n",
            "Best score: 0.7168207404200043\n"
          ]
        }
      ],
      "source": [
        "# Hyperparameters to tune with GridSearch\n",
        "param_grid = {'loss': ['hinge', 'modified_huber', 'squared_hinge', 'perceptron'],\n",
        "              'alpha': [0.001, 0.0001, 0.00001],\n",
        "              'tol': [0.001, 0.0001, 0.00001],\n",
        "              'shuffle': [True, False],\n",
        "              'class_weight': ['balanced', None],\n",
        "              'fit_intercept': [True, False],\n",
        "              'early_stopping': [True, False]}\n",
        "\n",
        "# Training the Model\n",
        "sdg_model = SGDClassifier(random_state=0, max_iter=10000)\n",
        "grid_search = GridSearchCV(sdg_model,\n",
        "                           param_grid,\n",
        "                           scoring='accuracy',\n",
        "                           verbose=1,\n",
        "                           n_jobs=-1)\n",
        "\n",
        "# Applying the Model\n",
        "grid_search.fit(X_train, y_train)\n",
        "sdg_predictions = grid_search.predict(X_test)\n",
        "\n",
        "# Optimum values values for the hyperparameters and the improved accuracy score\n",
        "print(\"Best parameters:\", grid_search.best_params_)\n",
        "print(\"Best score:\", grid_search.best_score_)"
      ]
    },
    {
      "cell_type": "markdown",
      "metadata": {
        "id": "nLtLe-49lSbt"
      },
      "source": [
        "## Support Vector Machine"
      ]
    },
    {
      "cell_type": "code",
      "execution_count": null,
      "metadata": {
        "colab": {
          "base_uri": "https://localhost:8080/"
        },
        "id": "3-PwST3blYDi",
        "outputId": "29db7bb4-14fd-4dfc-be52-96b51feabd1f"
      },
      "outputs": [
        {
          "name": "stdout",
          "output_type": "stream",
          "text": [
            "Accuracy:  0.8098818474758325\n",
            "Confusion Matrix:\n",
            " [[590  29]\n",
            " [148 164]]\n"
          ]
        }
      ],
      "source": [
        "# Defining and Training the Support Vector Machine Model\n",
        "svm_model = SVC(random_state=0)\n",
        "svm_model.fit(X_train, y_train)\n",
        "\n",
        "# Testing the Stochastic Gradient Descent Model\n",
        "svm_predictions = svm_model.predict(X_test)\n",
        "svm_score = svm_model.score(X_test, y_test)\n",
        "print(\"Accuracy: \", svm_score)\n",
        "\n",
        "svm_cm = confusion_matrix(y_test,svm_predictions)\n",
        "print(\"Confusion Matrix:\\n\", svm_cm)"
      ]
    },
    {
      "cell_type": "markdown",
      "metadata": {
        "id": "xp9Yw-zW-SdL"
      },
      "source": [
        "### Support Vector Machine with GridSearch"
      ]
    },
    {
      "cell_type": "code",
      "execution_count": null,
      "metadata": {
        "colab": {
          "background_save": true,
          "base_uri": "https://localhost:8080/"
        },
        "id": "dcGrSkl1rs99",
        "outputId": "e03d3a98-df3b-4800-ba8a-c5afcd28933c"
      },
      "outputs": [
        {
          "name": "stdout",
          "output_type": "stream",
          "text": [
            "Fitting 5 folds for each of 120 candidates, totalling 600 fits\n",
            "Best parameters: {'C': 5, 'gamma': 1, 'kernel': 'rbf', 'shrinking': False}\n",
            "Best score: 0.8430904957783071\n"
          ]
        }
      ],
      "source": [
        "# Hyperparameters to tune with GridSearch\n",
        "param_grid = {'C': [1,5, 20,100,500],\n",
        "              'gamma': [.001, .01, .1,1, 'scale', 'auto'],\n",
        "              'kernel': ['linear', 'rbf'],\n",
        "              'shrinking': [True, False]}\n",
        "\n",
        "# Training the Model\n",
        "svm_model = SVC(random_state=0)\n",
        "grid_search = GridSearchCV(svm_model,\n",
        "                           param_grid,\n",
        "                           scoring='accuracy',\n",
        "                           verbose=1,\n",
        "                           n_jobs=-1)\n",
        "\n",
        "# Applying the Model\n",
        "grid_search.fit(X_train, y_train)\n",
        "svm_predictions=grid_search.predict(X_test)\n",
        "\n",
        "# Optimum values values for the hyperparameters and the improved accuracy score\n",
        "print(\"Best parameters:\", grid_search.best_params_)\n",
        "print(\"Best score:\", grid_search.best_score_)"
      ]
    },
    {
      "cell_type": "markdown",
      "metadata": {
        "id": "dvs-hPhQuRC4"
      },
      "source": [
        "# Dropping some features based on Feature Selection Analysis:"
      ]
    },
    {
      "cell_type": "code",
      "execution_count": null,
      "metadata": {
        "colab": {
          "background_save": true
        },
        "id": "w8Iq53or-jr2"
      },
      "outputs": [],
      "source": [
        "# Dropping the 2 lowest rated features 'EverBenched' and 'Education'\n",
        "X = df.drop([\"EverBenched\", \"Education\", \"LeaveOrNot\"], axis='columns')\n",
        "\n",
        "# Normalising and Splitting the dataset into Train and Test\n",
        "X_norm=MinMaxScaler().fit_transform(X)\n",
        "X_train, X_test, y_train, y_test = train_test_split(X_norm, y, test_size=0.20, random_state=0, shuffle=True)"
      ]
    },
    {
      "cell_type": "markdown",
      "metadata": {
        "id": "Eqr9_ddCIgKk"
      },
      "source": [
        "## Running Classifiers with optimum values obtained via GridSearchCV on data with reduced features"
      ]
    },
    {
      "cell_type": "markdown",
      "metadata": {
        "id": "eL2IaEmJI2rX"
      },
      "source": [
        "### Logistic Regression"
      ]
    },
    {
      "cell_type": "code",
      "execution_count": null,
      "metadata": {
        "colab": {
          "background_save": true
        },
        "id": "ukjXU_YxJJwU",
        "outputId": "15ea8bf1-b64d-4fb2-fb54-c3e7927b7a06"
      },
      "outputs": [
        {
          "name": "stdout",
          "output_type": "stream",
          "text": [
            "Accuracy:  0.7035445757250268\n",
            "Confusion Matrix:\n",
            " [[545  74]\n",
            " [202 110]]\n"
          ]
        }
      ],
      "source": [
        "# Defining and Training the logistic Regression Model\n",
        "lr_model = LogisticRegression(random_state=0,\n",
        "                              C=5,\n",
        "                              class_weight=None,\n",
        "                              fit_intercept=False,\n",
        "                              tol=0.001)\n",
        "lr_model.fit(X_train, y_train)\n",
        "\n",
        "# Testing the Logistic Regression Model\n",
        "lr_predictions = lr_model.predict(X_test)\n",
        "lr_score = lr_model.score(X_test, y_test)\n",
        "print(\"Accuracy: \", lr_score)\n",
        "\n",
        "# Confusion Matrix\n",
        "lr_cm = confusion_matrix(y_test,lr_predictions)\n",
        "print(\"Confusion Matrix:\\n\", lr_cm)"
      ]
    },
    {
      "cell_type": "markdown",
      "metadata": {
        "id": "pHLmqCzbI6Vp"
      },
      "source": [
        "### Decision Tree"
      ]
    },
    {
      "cell_type": "code",
      "execution_count": null,
      "metadata": {
        "colab": {
          "background_save": true
        },
        "id": "YflyIdAvJKQ9",
        "outputId": "1e3c5f95-8c19-44a5-9718-0951d5b37c4a"
      },
      "outputs": [
        {
          "name": "stdout",
          "output_type": "stream",
          "text": [
            "Decision tree has 127 nodes with maximum depth 7.\n",
            "Train ROC AUC Score: 0.8574884720598969\n",
            "Test ROC AUC  Score: 0.7837625823288181\n",
            "Baseline ROC AUC: 0.5\n"
          ]
        }
      ],
      "source": [
        "#Defining and Training the Decision Tree Model\n",
        "tree = DecisionTreeClassifier(random_state=0,\n",
        "                              criterion='gini',\n",
        "                              max_depth=7,\n",
        "                              min_samples_leaf=2,\n",
        "                              min_samples_split=2)\n",
        "tree.fit(X_train, y_train)\n",
        "\n",
        "#Node count and Maximum depth of the tree\n",
        "print(f'Decision tree has {tree.tree_.node_count} nodes with maximum depth {tree.tree_.max_depth}.')\n",
        "\n",
        "#Make probability predictions\n",
        "train_probs = tree.predict_proba(X_train)[:,1]\n",
        "probs = tree.predict_proba(X_test)[:,1]\n",
        "\n",
        "train_predictions = tree.predict(X_train)\n",
        "predictions = tree.predict(X_test)\n",
        "\n",
        "#Plot ROC AUC Score to assess Decision Tree Performance\n",
        "print(f'Train ROC AUC Score: {roc_auc_score(y_train, train_probs)}')\n",
        "print(f'Test ROC AUC  Score: {roc_auc_score(y_test, probs)}')\n",
        "print(f'Baseline ROC AUC: {roc_auc_score(y_test, [1 for _ in range(len(y_test))])}')"
      ]
    },
    {
      "cell_type": "code",
      "execution_count": null,
      "metadata": {
        "colab": {
          "background_save": true
        },
        "id": "CAdFLhah1wSt",
        "outputId": "1decbad7-6e3c-45b4-a633-729fbdde8a2a"
      },
      "outputs": [
        {
          "name": "stdout",
          "output_type": "stream",
          "text": [
            "Accuracy: 0.8098818474758325\n",
            "Confusion Matrix:\n",
            " [[583  36]\n",
            " [141 171]]\n"
          ]
        }
      ],
      "source": [
        "# Calculate the accuracy score\n",
        "dt_accuracy = accuracy_score(y_test, predictions)\n",
        "print(f\"Accuracy: {dt_accuracy}\")\n",
        "\n",
        "#Decision Tree Confusional Matrix\n",
        "dt_cm = confusion_matrix(y_test, predictions)\n",
        "print(\"Confusion Matrix:\\n\", dt_cm)"
      ]
    },
    {
      "cell_type": "markdown",
      "metadata": {
        "id": "-diGSVHHI6ao"
      },
      "source": [
        "### Random Forest"
      ]
    },
    {
      "cell_type": "code",
      "execution_count": null,
      "metadata": {
        "colab": {
          "background_save": true
        },
        "id": "WS1svsrbJLKD",
        "outputId": "4b9c123d-9df8-47d8-ee86-2eaa05378347"
      },
      "outputs": [
        {
          "name": "stderr",
          "output_type": "stream",
          "text": [
            "[Parallel(n_jobs=-1)]: Using backend ThreadingBackend with 2 concurrent workers.\n",
            "[Parallel(n_jobs=-1)]: Done  46 tasks      | elapsed:    0.1s\n",
            "[Parallel(n_jobs=-1)]: Done  50 out of  50 | elapsed:    0.1s finished\n",
            "[Parallel(n_jobs=2)]: Using backend ThreadingBackend with 2 concurrent workers.\n",
            "[Parallel(n_jobs=2)]: Done  46 tasks      | elapsed:    0.0s\n",
            "[Parallel(n_jobs=2)]: Done  50 out of  50 | elapsed:    0.0s finished\n",
            "[Parallel(n_jobs=2)]: Using backend ThreadingBackend with 2 concurrent workers.\n"
          ]
        },
        {
          "name": "stdout",
          "output_type": "stream",
          "text": [
            "Train ROC AUC Score: 0.8978861828036562\n",
            "Test ROC AUC  Score: 0.8016703947640944\n",
            "Baseline ROC AUC: 0.5\n"
          ]
        },
        {
          "name": "stderr",
          "output_type": "stream",
          "text": [
            "[Parallel(n_jobs=2)]: Done  46 tasks      | elapsed:    0.0s\n",
            "[Parallel(n_jobs=2)]: Done  50 out of  50 | elapsed:    0.0s finished\n",
            "[Parallel(n_jobs=2)]: Using backend ThreadingBackend with 2 concurrent workers.\n",
            "[Parallel(n_jobs=2)]: Done  46 tasks      | elapsed:    0.0s\n",
            "[Parallel(n_jobs=2)]: Done  50 out of  50 | elapsed:    0.0s finished\n",
            "[Parallel(n_jobs=2)]: Using backend ThreadingBackend with 2 concurrent workers.\n",
            "[Parallel(n_jobs=2)]: Done  46 tasks      | elapsed:    0.0s\n",
            "[Parallel(n_jobs=2)]: Done  50 out of  50 | elapsed:    0.0s finished\n"
          ]
        }
      ],
      "source": [
        "#Defining and Training the Random Forest Classifiesr with\n",
        "rf_model = RandomForestClassifier(n_estimators=50, \n",
        "                                random_state=0, \n",
        "                                max_depth=10,\n",
        "                                min_samples_leaf=4,\n",
        "                                min_samples_split=2,\n",
        "                                max_features='sqrt',\n",
        "                                n_jobs=-1, verbose=1)\n",
        "rf_model.fit(X_train, y_train)\n",
        "\n",
        "train_rf_predictions = rf_model.predict(X_train)\n",
        "train_rf_probs = rf_model.predict_proba(X_train)[:, 1]\n",
        "\n",
        "rf_predictions = rf_model.predict(X_test)\n",
        "rf_probs = rf_model.predict_proba(X_test)[:, 1]\n",
        "\n",
        "#Plot ROC AUC Score\n",
        "print(f'Train ROC AUC Score: {roc_auc_score(y_train, train_rf_probs)}')\n",
        "print(f'Test ROC AUC  Score: {roc_auc_score(y_test, rf_probs)}')\n",
        "print(f'Baseline ROC AUC: {roc_auc_score(y_test, [1 for _ in range(len(y_test))])}')"
      ]
    },
    {
      "cell_type": "code",
      "execution_count": null,
      "metadata": {
        "colab": {
          "background_save": true
        },
        "id": "crxfBk7Dv2x2",
        "outputId": "3b37848b-549a-4cb1-f11b-780d93200260"
      },
      "outputs": [
        {
          "name": "stdout",
          "output_type": "stream",
          "text": [
            "Accuracy: 0.8066595059076263\n",
            "Confusion Matrix:\n",
            " [[570  49]\n",
            " [131 181]]\n"
          ]
        }
      ],
      "source": [
        "# Calculate the accuracy score\n",
        "rf_accuracy = accuracy_score(y_test, rf_predictions)\n",
        "print(f\"Accuracy: {rf_accuracy}\")\n",
        "\n",
        "#Random Forest Confusion Matrix\n",
        "rf_cm = confusion_matrix(y_test, rf_predictions)\n",
        "print(\"Confusion Matrix:\\n\", rf_cm)"
      ]
    },
    {
      "cell_type": "markdown",
      "metadata": {
        "id": "230yvvQ2I6fD"
      },
      "source": [
        "### Stochastic Gradient Descent"
      ]
    },
    {
      "cell_type": "code",
      "execution_count": null,
      "metadata": {
        "colab": {
          "background_save": true
        },
        "id": "Ql9vZK3XJLu-",
        "outputId": "bbc13e34-7ec5-41d5-84cc-503129333961"
      },
      "outputs": [
        {
          "name": "stdout",
          "output_type": "stream",
          "text": [
            "Accuracy:  0.7089151450053706\n",
            "Confusion Matrix:\n",
            " [[529  90]\n",
            " [181 131]]\n"
          ]
        }
      ],
      "source": [
        "# Defining and Training the Stochastic Gradient Descent Model\n",
        "sdg_model = SGDClassifier(random_state=0,\n",
        "                          alpha=0.0001,\n",
        "                          class_weight=None,\n",
        "                          early_stopping=False,\n",
        "                          fit_intercept=False,\n",
        "                          loss='hinge',\n",
        "                          shuffle=False,\n",
        "                          tol=0.0001)\n",
        "sdg_model.fit(X_train, y_train)\n",
        "\n",
        "# Testing the Stochastic Gradient Descent Model\n",
        "sdg_predictions = sdg_model.predict(X_test)\n",
        "sgd_score = sdg_model.score(X_test, y_test)\n",
        "print(\"Accuracy: \", sgd_score)\n",
        "\n",
        "# Confusion Matrix\n",
        "sgd_cm = confusion_matrix(y_test,sdg_predictions)\n",
        "print(\"Confusion Matrix:\\n\", sgd_cm)"
      ]
    },
    {
      "cell_type": "markdown",
      "metadata": {
        "id": "10FmvqpBI6vG"
      },
      "source": [
        "### Support Vector Machine"
      ]
    },
    {
      "cell_type": "code",
      "execution_count": null,
      "metadata": {
        "colab": {
          "background_save": true
        },
        "id": "feD--czwHH6o",
        "outputId": "6af93d01-cfba-4734-db6a-6cf6b1fb3c77"
      },
      "outputs": [
        {
          "name": "stdout",
          "output_type": "stream",
          "text": [
            "Accuracy:  0.8055853920515574\n",
            "Confusion Matrix:\n",
            " [[581  38]\n",
            " [143 169]]\n"
          ]
        }
      ],
      "source": [
        "# Defining and Training the Support Vector Machine Model\n",
        "svm_model = SVC(random_state=0,\n",
        "                C=5,\n",
        "                gamma=1,\n",
        "                kernel='rbf',\n",
        "                shrinking=False)\n",
        "svm_model.fit(X_train, y_train)\n",
        "\n",
        "# Testing the Stochastic Gradient Descent Model\n",
        "svm_predictions = svm_model.predict(X_test)\n",
        "svm_score = svm_model.score(X_test, y_test)\n",
        "print(\"Accuracy: \", svm_score)\n",
        "\n",
        "svm_cm = confusion_matrix(y_test,svm_predictions)\n",
        "print(\"Confusion Matrix:\\n\", svm_cm)"
      ]
    }
  ],
  "metadata": {
    "colab": {
      "collapsed_sections": [
        "cOFmrZdpxxAy",
        "Cprus1XdyYZR"
      ],
      "provenance": []
    },
    "kernelspec": {
      "display_name": "Python 3",
      "name": "python3"
    },
    "language_info": {
      "name": "python"
    }
  },
  "nbformat": 4,
  "nbformat_minor": 0
}